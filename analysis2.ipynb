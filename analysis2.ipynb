{
 "cells": [
  {
   "cell_type": "code",
   "execution_count": 2,
   "id": "7ecb1932-a586-49bc-8b61-c3a1e0b84438",
   "metadata": {},
   "outputs": [],
   "source": [
    "import numpy as np \n",
    "import pandas as pd\n",
    "import matplotlib.pyplot as plt\n",
    "import os\n",
    "import gzip\n",
    "from PIL import Image"
   ]
  },
  {
   "cell_type": "code",
   "execution_count": 3,
   "id": "57062785-b21d-45f6-993e-aa09d884fafa",
   "metadata": {},
   "outputs": [],
   "source": [
    "phi = np.load(\"Phi_201snap.npy\")"
   ]
  },
  {
   "cell_type": "code",
   "execution_count": 4,
   "id": "ff61d3e6-185b-43f3-ad0a-8eaea646fe41",
   "metadata": {},
   "outputs": [],
   "source": [
    "phi2 = phi[:,:,160]"
   ]
  },
  {
   "cell_type": "code",
   "execution_count": 5,
   "id": "7fd90573-b85a-41f4-a2ba-8c443361e026",
   "metadata": {},
   "outputs": [
    {
     "data": {
      "text/plain": [
       "0.000355214"
      ]
     },
     "execution_count": 5,
     "metadata": {},
     "output_type": "execute_result"
    }
   ],
   "source": [
    "phi2[4][3]"
   ]
  },
  {
   "cell_type": "code",
   "execution_count": 23,
   "id": "12518b9f-5a4f-4b40-896a-d563b583408b",
   "metadata": {},
   "outputs": [
    {
     "ename": "ValueError",
     "evalue": "The truth value of an array with more than one element is ambiguous. Use a.any() or a.all()",
     "output_type": "error",
     "traceback": [
      "\u001b[0;31m---------------------------------------------------------------------------\u001b[0m",
      "\u001b[0;31mValueError\u001b[0m                                Traceback (most recent call last)",
      "Cell \u001b[0;32mIn[23], line 1\u001b[0m\n\u001b[0;32m----> 1\u001b[0m \u001b[38;5;28;43mmax\u001b[39;49m\u001b[43m(\u001b[49m\u001b[43mphi\u001b[49m\u001b[43m)\u001b[49m\n",
      "\u001b[0;31mValueError\u001b[0m: The truth value of an array with more than one element is ambiguous. Use a.any() or a.all()"
     ]
    }
   ],
   "source": [
    "max(phi)"
   ]
  },
  {
   "cell_type": "code",
   "execution_count": 24,
   "id": "6c146d3d-fca2-4c3c-b6c3-4238e868c42e",
   "metadata": {},
   "outputs": [
    {
     "ename": "ValueError",
     "evalue": "The truth value of an array with more than one element is ambiguous. Use a.any() or a.all()",
     "output_type": "error",
     "traceback": [
      "\u001b[0;31m---------------------------------------------------------------------------\u001b[0m",
      "\u001b[0;31mValueError\u001b[0m                                Traceback (most recent call last)",
      "Cell \u001b[0;32mIn[24], line 1\u001b[0m\n\u001b[0;32m----> 1\u001b[0m \u001b[38;5;28;43mall\u001b[39;49m\u001b[43m(\u001b[49m\u001b[43mphi\u001b[49m\u001b[43m)\u001b[49m\n",
      "\u001b[0;31mValueError\u001b[0m: The truth value of an array with more than one element is ambiguous. Use a.any() or a.all()"
     ]
    }
   ],
   "source": [
    "all(phi)"
   ]
  },
  {
   "cell_type": "code",
   "execution_count": 25,
   "id": "9548dc00-1e05-4d35-bd2e-9e7f2d281a4b",
   "metadata": {},
   "outputs": [
    {
     "ename": "NameError",
     "evalue": "name 'numpy' is not defined",
     "output_type": "error",
     "traceback": [
      "\u001b[0;31m---------------------------------------------------------------------------\u001b[0m",
      "\u001b[0;31mNameError\u001b[0m                                 Traceback (most recent call last)",
      "Cell \u001b[0;32mIn[25], line 1\u001b[0m\n\u001b[0;32m----> 1\u001b[0m \u001b[43mnumpy\u001b[49m\u001b[38;5;241m.\u001b[39mmax(phi2)\n",
      "\u001b[0;31mNameError\u001b[0m: name 'numpy' is not defined"
     ]
    }
   ],
   "source": [
    "numpy.max(phi2)"
   ]
  },
  {
   "cell_type": "code",
   "execution_count": 26,
   "id": "c83cc486-1904-4b22-a07e-928c09e21e17",
   "metadata": {},
   "outputs": [
    {
     "data": {
      "text/plain": [
       "0.126814"
      ]
     },
     "execution_count": 26,
     "metadata": {},
     "output_type": "execute_result"
    }
   ],
   "source": [
    "np.max(phi2)"
   ]
  },
  {
   "cell_type": "code",
   "execution_count": 27,
   "id": "e3327230-9d4c-40e2-a02a-1cfa22df058c",
   "metadata": {},
   "outputs": [
    {
     "data": {
      "text/plain": [
       "-0.111547"
      ]
     },
     "execution_count": 27,
     "metadata": {},
     "output_type": "execute_result"
    }
   ],
   "source": [
    "np.min(phi2)"
   ]
  },
  {
   "cell_type": "code",
   "execution_count": null,
   "id": "db0886ce-a448-48c3-9309-dc5a8741af1e",
   "metadata": {},
   "outputs": [],
   "source": []
  }
 ],
 "metadata": {
  "kernelspec": {
   "display_name": "Python 3 (ipykernel)",
   "language": "python",
   "name": "python3"
  },
  "language_info": {
   "codemirror_mode": {
    "name": "ipython",
    "version": 3
   },
   "file_extension": ".py",
   "mimetype": "text/x-python",
   "name": "python",
   "nbconvert_exporter": "python",
   "pygments_lexer": "ipython3",
   "version": "3.9.6"
  }
 },
 "nbformat": 4,
 "nbformat_minor": 5
}
