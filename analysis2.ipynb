{
 "cells": [
  {
   "cell_type": "code",
   "execution_count": 112,
   "id": "7ecb1932-a586-49bc-8b61-c3a1e0b84438",
   "metadata": {},
   "outputs": [],
   "source": [
    "import numpy as np \n",
    "import pandas as pd\n",
    "from PIL import Image\n",
    "import cv2"
   ]
  },
  {
   "cell_type": "code",
   "execution_count": 93,
   "id": "57062785-b21d-45f6-993e-aa09d884fafa",
   "metadata": {},
   "outputs": [],
   "source": [
    "phi = np.load(\"Phi_201snap.npy\")"
   ]
  },
  {
   "cell_type": "code",
   "execution_count": 94,
   "id": "ff61d3e6-185b-43f3-ad0a-8eaea646fe41",
   "metadata": {},
   "outputs": [],
   "source": [
    "phi160 = phi[:,:,160]"
   ]
  },
  {
   "cell_type": "code",
   "execution_count": 95,
   "id": "7fd90573-b85a-41f4-a2ba-8c443361e026",
   "metadata": {},
   "outputs": [
    {
     "data": {
      "text/plain": [
       "(101, 227)"
      ]
     },
     "execution_count": 95,
     "metadata": {},
     "output_type": "execute_result"
    }
   ],
   "source": [
    "phi160.shape"
   ]
  },
  {
   "cell_type": "code",
   "execution_count": 108,
   "id": "c83cc486-1904-4b22-a07e-928c09e21e17",
   "metadata": {},
   "outputs": [],
   "source": [
    "phimax = np.max(phi160)\n",
    "phimin = np.min(phi160)\n",
    "ratio = 255/(phimax-phimin)\n",
    "\n",
    "def convertRawToRGB(x):\n",
    "    return round(ratio*(x - phimin))\n",
    "    \n",
    "copy = phi160.copy()"
   ]
  },
  {
   "cell_type": "code",
   "execution_count": 109,
   "id": "fa640b27-4976-4014-8a21-55c0f6af11b7",
   "metadata": {},
   "outputs": [
    {
     "data": {
      "text/plain": [
       "array([[122., 122., 122., ..., 122., 122., 122.],\n",
       "       [122., 122., 122., ..., 121., 122., 122.],\n",
       "       [121., 121., 122., ..., 121., 121., 121.],\n",
       "       ...,\n",
       "       [120., 120., 120., ..., 119., 119., 120.],\n",
       "       [119., 120., 120., ..., 119., 119., 119.],\n",
       "       [119., 119., 119., ..., 119., 119., 119.]])"
      ]
     },
     "execution_count": 109,
     "metadata": {},
     "output_type": "execute_result"
    }
   ],
   "source": [
    "for i, row in enumerate(phi160):\n",
    "    for j, col in enumerate(row):\n",
    "        copy[i][j] = convertRawToRGB(col)\n",
    "copy"
   ]
  },
  {
   "cell_type": "code",
   "execution_count": 110,
   "id": "f70e175c-37af-4781-9c12-664a675e4252",
   "metadata": {},
   "outputs": [
    {
     "data": {
      "image/jpeg": "[encoded data removed]",
      "image/png": "[encoded data removed]",
      "text/plain": [
       "<PIL.Image.Image image mode=L size=227x101>"
      ]
     },
     "execution_count": 110,
     "metadata": {},
     "output_type": "execute_result"
    }
   ],
   "source": [
    "img = Image.fromarray(np.uint8(copy), 'L')\n",
    "img.save('img.png')\n",
    "im = Image.open('img.png')\n",
    "a = np.asarray(im)\n",
    "img"
   ]
  },
  {
   "cell_type": "code",
   "execution_count": null,
   "id": "c1c249d9-a9f0-461e-af62-647bdf5fa834",
   "metadata": {},
   "outputs": [],
   "source": []
  },
  {
   "cell_type": "code",
   "execution_count": 100,
   "id": "12518b9f-5a4f-4b40-896a-d563b583408b",
   "metadata": {},
   "outputs": [],
   "source": [
    "#for r in list(range(101)):\n",
    "#    for z in list(range(227)):\n",
    "        "
   ]
  }
 ],
 "metadata": {
  "kernelspec": {
   "display_name": "Python 3 (ipykernel)",
   "language": "python",
   "name": "python3"
  },
  "language_info": {
   "codemirror_mode": {
    "name": "ipython",
    "version": 3
   },
   "file_extension": ".py",
   "mimetype": "text/x-python",
   "name": "python",
   "nbconvert_exporter": "python",
   "pygments_lexer": "ipython3",
   "version": "3.9.6"
  }
 },
 "nbformat": 4,
 "nbformat_minor": 5
}
