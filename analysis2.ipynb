{
 "cells": [
  {
   "cell_type": "code",
   "execution_count": 3,
   "id": "7ecb1932-a586-49bc-8b61-c3a1e0b84438",
   "metadata": {},
   "outputs": [],
   "source": [
    "import numpy as np \n",
    "import pandas as pd\n",
    "import matplotlib.pyplot as plt\n",
    "import os\n",
    "import gzip\n",
    "from PIL import Image"
   ]
  },
  {
   "cell_type": "code",
   "execution_count": 4,
   "id": "57062785-b21d-45f6-993e-aa09d884fafa",
   "metadata": {},
   "outputs": [],
   "source": [
    "phi = np.load(\"Phi_201snap.npy\")"
   ]
  },
  {
   "cell_type": "code",
   "execution_count": 5,
   "id": "ff61d3e6-185b-43f3-ad0a-8eaea646fe41",
   "metadata": {},
   "outputs": [],
   "source": [
    "phi2 = phi[:,:,160]"
   ]
  },
  {
   "cell_type": "code",
   "execution_count": 6,
   "id": "7fd90573-b85a-41f4-a2ba-8c443361e026",
   "metadata": {},
   "outputs": [
    {
     "data": {
      "text/plain": [
       "array([[ 2.89374e-03,  2.89374e-03,  2.89374e-03, ...,  2.89374e-03,\n",
       "         2.89374e-03,  2.89374e-03],\n",
       "       [ 2.16493e-03,  2.29075e-03,  2.41657e-03, ...,  1.98833e-03,\n",
       "         2.07663e-03,  2.16493e-03],\n",
       "       [ 1.70762e-03,  1.89510e-03,  2.08258e-03, ...,  1.31565e-03,\n",
       "         1.51164e-03,  1.70762e-03],\n",
       "       ...,\n",
       "       [ 2.29082e-04,  4.64287e-04,  6.74721e-04, ..., -2.87665e-04,\n",
       "        -2.52209e-05,  2.29082e-04],\n",
       "       [ 1.11774e-04,  2.44599e-04,  3.63276e-04, ..., -1.78092e-04,\n",
       "        -3.12251e-05,  1.11774e-04],\n",
       "       [-1.18974e-04, -8.53610e-05, -5.12434e-05, ..., -1.68488e-04,\n",
       "        -1.46613e-04, -1.18974e-04]])"
      ]
     },
     "execution_count": 6,
     "metadata": {},
     "output_type": "execute_result"
    }
   ],
   "source": [
    "phi2"
   ]
  },
  {
   "cell_type": "code",
   "execution_count": 7,
   "id": "12518b9f-5a4f-4b40-896a-d563b583408b",
   "metadata": {},
   "outputs": [],
   "source": [
    "for r in list(range(101)):\n",
    "    for z in list(range(227)):\n",
    "        "
   ]
  },
  {
   "cell_type": "code",
   "execution_count": 8,
   "id": "c83cc486-1904-4b22-a07e-928c09e21e17",
   "metadata": {},
   "outputs": [],
   "source": [
    "# np.max(phi2)\n",
    "# np.min(phi2)"
   ]
  },
  {
   "cell_type": "code",
   "execution_count": null,
   "id": "6ac33fff-a3d9-4cf2-b30e-227ed0466ca8",
   "metadata": {},
   "outputs": [],
   "source": []
  }
 ],
 "metadata": {
  "kernelspec": {
   "display_name": "Python 3 (ipykernel)",
   "language": "python",
   "name": "python3"
  },
  "language_info": {
   "codemirror_mode": {
    "name": "ipython",
    "version": 3
   },
   "file_extension": ".py",
   "mimetype": "text/x-python",
   "name": "python",
   "nbconvert_exporter": "python",
   "pygments_lexer": "ipython3",
   "version": "3.9.6"
  }
 },
 "nbformat": 4,
 "nbformat_minor": 5
}
