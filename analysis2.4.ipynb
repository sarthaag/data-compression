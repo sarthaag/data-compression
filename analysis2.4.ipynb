{
 "cells": [
  {
   "cell_type": "code",
   "execution_count": 1,
   "id": "9b491d61-c4b6-4039-88b8-eb13c342b923",
   "metadata": {},
   "outputs": [],
   "source": [
    "import numpy as np\n",
    "import pandas as pd"
   ]
  },
  {
   "cell_type": "code",
   "execution_count": 11,
   "id": "d23441a2-ead8-438e-8467-bd2da8915910",
   "metadata": {},
   "outputs": [
    {
     "name": "stdout",
     "output_type": "stream",
     "text": [
      "[[ 3.91023390e-07+6.04875823e-24j  1.57227917e-24+1.52935106e-24j\n",
      "  -1.27319624e-23-5.50783007e-24j ...  5.25761070e-24-2.95078461e-24j\n",
      "  -3.06128317e-24-1.03930925e-23j  1.19056930e-24-3.63573986e-24j]\n",
      " [ 3.90888410e-07+9.25408310e-24j -1.40701465e-08-6.53256666e-11j\n",
      "   3.83333984e-11-6.21138175e-12j ...  2.98187544e-11-8.25875488e-13j\n",
      "   3.83333984e-11+6.21138175e-12j -1.40701465e-08+6.53256666e-11j]\n",
      " [ 3.90742210e-07+6.87593884e-24j -3.11518599e-08-4.13931993e-10j\n",
      "   1.84543651e-10+7.34573089e-12j ...  9.34452639e-11+6.58336666e-12j\n",
      "   1.84543651e-10-7.34573089e-12j -3.11518599e-08+4.13931993e-10j]\n",
      " ...\n",
      " [ 3.71843410e-08+2.84343336e-25j -2.19739759e-08-3.65957494e-10j\n",
      "  -4.51768037e-10-1.96464162e-12j ... -4.47220052e-09+1.81958787e-10j\n",
      "  -4.51768037e-10+1.96464162e-12j -2.19739759e-08+3.65957494e-10j]\n",
      " [ 1.94760661e-08+5.16987883e-26j -1.13756708e-08-1.93317886e-10j\n",
      "  -1.32404679e-10+3.09568000e-12j ... -2.36781898e-09+9.65372727e-11j\n",
      "  -1.32404679e-10-3.09568000e-12j -1.13756708e-08+1.93317886e-10j]\n",
      " [ 9.88760964e-16+2.56379794e-29j -1.12990894e-14+9.04848331e-13j\n",
      "   4.58586347e-15-1.87731282e-13j ... -3.16369264e-15-5.48573327e-14j\n",
      "   4.58586347e-15+1.87731282e-13j -1.12990894e-14-9.04848331e-13j]]\n"
     ]
    }
   ],
   "source": [
    "phi = np.load(\"Phi_201snap.npy\")\n",
    "df = pd.DataFrame(index=np.arange(201))\n",
    "\n",
    "# Define values for k\n",
    "k_values = [1, 2, 5, 10, 20, 50, 75, 100]\n",
    "\n",
    "for i in range(201):\n",
    "    data = phi[:,:,i]\n",
    "\n",
    "    # Compute 1D (in r) and 2D FFT's\n",
    "    fft_r = np.fft.fft(data, axis=0)\n",
    "    fft2 = np.fft.fft2(data)\n",
    "\n",
    "    for k in k_values:\n",
    "        # 1D\n",
    "        # Keep only the top k frequencies\n",
    "        fft_compressed1D = np.zeros_like(fft_r)\n",
    "        fft_compressed1D[:k] = fft_r[:k]\n",
    "        \n",
    "        # Reconstruct the data using inverse FFT\n",
    "        reconstructed1D = np.fft.ifft(fft_compressed1D).real\n",
    "        \n",
    "        # Compute the error (RMSE) and compression ratio\n",
    "        diff1D = data - reconstructed1D\n",
    "        rmse1D = np.sqrt(np.mean(diff1D**2))\n",
    "        cr1D = 101 / k\n",
    "\n",
    "        # Add to dataframe\n",
    "        # cr_string1D = \"CR1D_k=\" + str(k)\n",
    "        rmse_string1D = \"RMSE1D_k=\" + str(k)\n",
    "        # df.at[i, cr_string1D] = cr1D\n",
    "        df.at[i, rmse_string1D] = rmse1D\n",
    "\n",
    "        # 2D\n",
    "        # Keep only the top k frequencies\n",
    "        fft_compressed2D = np.zeros_like(fft2)\n",
    "        fft_compressed2D[:k, :k] = fft2[:k, :k]\n",
    "        \n",
    "        # Reconstruct the data using inverse FFT\n",
    "        reconstructed2D = np.fft.ifft2(fft_compressed2D).real\n",
    "        \n",
    "        # Compute the error (RMSE) and compression ratio\n",
    "        diff2D = data - reconstructed2D\n",
    "        rmse2D = np.sqrt(np.mean(diff2D**2))\n",
    "        cr2D = (101 * 227) / (k * k)\n",
    "\n",
    "        # Add to dataframe\n",
    "        # cr_string2D = \"CR2D_k=\" + str(k)\n",
    "        rmse_string2D = \"RMSE2D_k=\" + str(k)\n",
    "        # df.at[i, cr_string2D] = cr2D\n",
    "        df.at[i, rmse_string2D] = rmse2D\n",
    "\n",
    "# df\n"
   ]
  },
  {
   "cell_type": "code",
   "execution_count": null,
   "id": "a26bfcfa-f3fe-4fd2-bcbd-bf46a665fc7b",
   "metadata": {},
   "outputs": [],
   "source": []
  }
 ],
 "metadata": {
  "kernelspec": {
   "display_name": "Python 3 (ipykernel)",
   "language": "python",
   "name": "python3"
  },
  "language_info": {
   "codemirror_mode": {
    "name": "ipython",
    "version": 3
   },
   "file_extension": ".py",
   "mimetype": "text/x-python",
   "name": "python",
   "nbconvert_exporter": "python",
   "pygments_lexer": "ipython3",
   "version": "3.9.6"
  }
 },
 "nbformat": 4,
 "nbformat_minor": 5
}
