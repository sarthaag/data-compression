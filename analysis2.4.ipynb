{
 "cells": [
  {
   "cell_type": "code",
   "execution_count": 2,
   "id": "9b491d61-c4b6-4039-88b8-eb13c342b923",
   "metadata": {},
   "outputs": [],
   "source": [
    "import numpy as np\n",
    "import pandas as pd"
   ]
  },
  {
   "cell_type": "code",
   "execution_count": 11,
   "id": "d23441a2-ead8-438e-8467-bd2da8915910",
   "metadata": {},
   "outputs": [
    {
     "data": {
      "text/plain": [
       "array([[-1.32053564, -0.95307438, -0.06310568, ...,  0.83923006,\n",
       "        -0.06310568, -0.95307438],\n",
       "       [ 0.        ,  0.        ,  0.        , ...,  0.        ,\n",
       "         0.        ,  0.        ],\n",
       "       [ 0.        ,  0.        ,  0.        , ...,  0.        ,\n",
       "         0.        ,  0.        ],\n",
       "       ...,\n",
       "       [ 0.        ,  0.        ,  0.        , ...,  0.        ,\n",
       "         0.        ,  0.        ],\n",
       "       [ 0.        ,  0.        ,  0.        , ...,  0.        ,\n",
       "         0.        ,  0.        ],\n",
       "       [ 0.        ,  0.        ,  0.        , ...,  0.        ,\n",
       "         0.        ,  0.        ]])"
      ]
     },
     "execution_count": 11,
     "metadata": {},
     "output_type": "execute_result"
    }
   ],
   "source": [
    "phi = np.load(\"Phi_201snap.npy\")\n",
    "df = pd.DataFrame(index=np.arange(201))\n",
    "\n",
    "# Define values for k\n",
    "k_values = [10, 2, 5, 10, 20, 50, 75, 100]\n",
    "\n",
    "for i in range(201):\n",
    "    data = phi[:,:,i]\n",
    "\n",
    "    # Compute 1D (in r) and 2D FFT's\n",
    "    fft = np.fft.fft(data, axis=0)\n",
    "    fft2 = np.fft.fft2(data)\n",
    "\n",
    "    for k in k_values:\n",
    "        # 1D\n",
    "        # Sort fft by absolute value in descending order\n",
    "        fft_sorted = np.sort(np.abs(fft.reshape(-1)))[::-1]\n",
    "        \n",
    "        # Take the top k frequencies from fft_sorted by defining threshold & mask smaller values\n",
    "        threshold = fft_sorted[k]\n",
    "        mask = np.abs(fft)>threshold\n",
    "        masked = fft * mask\n",
    "\n",
    "        # Compute iFFT from masked\n",
    "        newdata = np.fft.ifft(masked).real\n",
    "        break\n",
    "        \n",
    "        # Compute the error (RMSE) and compression ratio\n",
    "        diff1D = data - newdata\n",
    "        rmse1D = np.sqrt(np.mean(diff1D**2))\n",
    "        cr1D = 101 / k\n",
    "\n",
    "        # Add to dataframe\n",
    "        # cr_string1D = \"CR1D_k=\" + str(k)\n",
    "        rmse_string1D = \"RMSE1D_k=\" + str(k)\n",
    "        # df.at[i, cr_string1D] = cr1D\n",
    "        df.at[i, rmse_string1D] = rmse1D\n",
    "\n",
    "        # 2D\n",
    "        # Sort fft by absolute value in descending order\n",
    "        fft2_sorted = np.sort(np.abs(fft2.reshape(-1)))[::-1]\n",
    "\n",
    "        # Take the top k frequencies from fft_sorted by defining threshold & mask smaller values\n",
    "        threshold2 = fft2_sorted[k]\n",
    "        mask2 = np.abs(fft2)>threshold2\n",
    "        masked2 = fft2 * mask2\n",
    "        \n",
    "        # Reconstruct the data using inverse FFT\n",
    "        newdata2 = np.fft.ifft2(masked2).real\n",
    "        \n",
    "        # Compute the error (RMSE) and compression ratio\n",
    "        diff2D = data - reconstructed2D\n",
    "        rmse2D = np.sqrt(np.mean(diff2D**2))\n",
    "        cr2D = (101 * 227) / k\n",
    "\n",
    "        # Add to dataframe\n",
    "        # cr_string2D = \"CR2D_k=\" + str(k)\n",
    "        rmse_string2D = \"RMSE2D_k=\" + str(k)\n",
    "        # df.at[i, cr_string2D] = cr2D\n",
    "        df.at[i, rmse_string2D] = rmse2D\n",
    "        \n",
    "# df.to_pickle(\"analysis2.4.pkl\")\n",
    "df"
   ]
  },
  {
   "cell_type": "code",
   "execution_count": 10,
   "id": "a910b33c-ca35-4b01-9c4f-418548c0b8a5",
   "metadata": {},
   "outputs": [
    {
     "data": {
      "text/plain": [
       "(3.6993867467299997+3.122502256758253e-17j)"
      ]
     },
     "execution_count": 10,
     "metadata": {},
     "output_type": "execute_result"
    }
   ],
   "source": [
    "# Next steps: \n",
    "# 1. Figure out the dimensions of the returned FFT objects, why do they match original dimensions if they do?\n",
    "# 2. Are the frequencies already arranged in order of magnitude? Try to compare the magnitudes. \n",
    "# --- And how should we compare the magnitudes, by real part or by absolute value? (Answer: try both and see which one is better)\n",
    "\n",
    "# REDO WITH JUST ONE OF THE 201 IMAGES\n",
    "\n",
    "phi = np.load(\"Phi_201snap.npy\")\n",
    "df = pd.DataFrame(index=np.arange(201))\n",
    "\n",
    "# Define values for k\n",
    "k_values = [1, 2, 5, 10, 20, 50, 75, 100]\n",
    "\n",
    "data = phi[:,:,160]\n",
    "\n",
    "# Compute 1D (in r) and 2D FFT's\n",
    "# First do 1D FFT and sort by absolute value in descending order\n",
    "fft = np.fft.fft(data, axis=0)\n",
    "fft_sorted = np.sort(np.abs(fft.reshape(-1)))[::-1]\n",
    "\n",
    "# Iterate over different k and take the top k frequencies from fft_sorted by defining threshold & mask smaller values\n",
    "for k in k_values:\n",
    "    threshold = fft_sorted[k]\n",
    "    mask = np.abs(fft)>threshold\n",
    "    masked = fft * mask\n",
    "\n",
    "    # Compute iFFT and resulting RMSE\n",
    "    newdata = np.fft.ifft(masked).real\n",
    "    break\n",
    "    \n",
    "    \n",
    "\n",
    "# See the code from the youtube video "
   ]
  },
  {
   "cell_type": "code",
   "execution_count": 5,
   "id": "320377cf-8ff6-45dd-96fe-201e97a7bfff",
   "metadata": {},
   "outputs": [
    {
     "data": {
      "text/plain": [
       "5.0"
      ]
     },
     "execution_count": 5,
     "metadata": {},
     "output_type": "execute_result"
    }
   ],
   "source": [
    "# # Instead of looping through 201 images (in cell below), can do the 2D FFT on the whole phi array all at once. \n",
    "# # Easier then to do the 201*N RMSE thing.\n",
    "\n",
    "# phi = np.load(\"Phi_201snap.npy\")\n",
    "# df = pd.DataFrame(index=np.arange(201))\n",
    "\n",
    "# # Define values for k\n",
    "# k_values = [1, 2, 5, 10, 20, 50, 75, 100]\n",
    "\n",
    "# # Compute 1D (in r) and 2D (r, z) FFT's\n",
    "# fft = np.fft.fft(phi, axis=0)\n",
    "# fft2 = np.fft.fft2(phi, axes=(0, 1))\n",
    "\n",
    "# for k in k_values:\n",
    "#     # 1D\n",
    "#     # Keep only the top k frequencies\n",
    "#     fft_compressed1D = np.zeros_like(fft)\n",
    "#     fft_compressed1D[:k] = fft[:k]\n",
    "    \n",
    "#     # Reconstruct the data using inverse FFT\n",
    "#     reconstructed1D = np.fft.ifft(fft_compressed1D).real\n",
    "    \n",
    "#     # Compute the error (RMSE) and compression ratio\n",
    "#     diff1D = data - reconstructed1D\n",
    "#     rmse1D = np.sqrt(np.mean(diff1D**2))\n",
    "#     cr1D = 101 / k\n",
    "    \n",
    "#     # Add to dataframe\n",
    "#     # cr_string1D = \"CR1D_k=\" + str(k)\n",
    "#     rmse_string1D = \"RMSE1D_k=\" + str(k)\n",
    "#     # df.at[i, cr_string1D] = cr1D\n",
    "#     df.at[i, rmse_string1D] = rmse1D\n",
    "    \n",
    "#     # 2D\n",
    "#     # Keep only the top k frequencies\n",
    "#     fft_compressed2D = np.zeros_like(fft2)\n",
    "#     fft_compressed2D[:k, :k] = fft2[:k, :k]\n",
    "    \n",
    "#     # Reconstruct the data using inverse FFT\n",
    "#     reconstructed2D = np.fft.ifft2(fft_compressed2D).real\n",
    "    \n",
    "#     # Compute the error (RMSE) and compression ratio\n",
    "#     diff2D = data - reconstructed2D\n",
    "#     rmse2D = np.sqrt(np.mean(diff2D**2))\n",
    "#     cr2D = (101 * 227) / (k * k)\n",
    "    \n",
    "#     # Add to dataframe\n",
    "#     # cr_string2D = \"CR2D_k=\" + str(k)\n",
    "#     rmse_string2D = \"RMSE2D_k=\" + str(k)\n",
    "#     # df.at[i, cr_string2D] = cr2D\n",
    "#     df.at[i, rmse_string2D] = rmse2D\n",
    "        \n",
    "# # df.to_pickle(\"analysis2.4.pkl\")\n",
    "# df\n",
    "\n",
    "np.abs(3 + 4j)"
   ]
  },
  {
   "cell_type": "code",
   "execution_count": 8,
   "id": "a26bfcfa-f3fe-4fd2-bcbd-bf46a665fc7b",
   "metadata": {},
   "outputs": [
    {
     "data": {
      "text/plain": [
       "5"
      ]
     },
     "execution_count": 8,
     "metadata": {},
     "output_type": "execute_result"
    }
   ],
   "source": [
    "5 * True"
   ]
  },
  {
   "cell_type": "code",
   "execution_count": null,
   "id": "e7b6a470-9320-406c-bd01-3c08051c4503",
   "metadata": {},
   "outputs": [],
   "source": []
  }
 ],
 "metadata": {
  "kernelspec": {
   "display_name": "Python 3 (ipykernel)",
   "language": "python",
   "name": "python3"
  },
  "language_info": {
   "codemirror_mode": {
    "name": "ipython",
    "version": 3
   },
   "file_extension": ".py",
   "mimetype": "text/x-python",
   "name": "python",
   "nbconvert_exporter": "python",
   "pygments_lexer": "ipython3",
   "version": "3.9.6"
  }
 },
 "nbformat": 4,
 "nbformat_minor": 5
}
