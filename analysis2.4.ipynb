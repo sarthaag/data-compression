{
 "cells": [
  {
   "cell_type": "code",
   "execution_count": 1,
   "id": "9b491d61-c4b6-4039-88b8-eb13c342b923",
   "metadata": {},
   "outputs": [],
   "source": [
    "import numpy as np\n",
    "import pandas as pd"
   ]
  },
  {
   "cell_type": "code",
   "execution_count": null,
   "id": "d23441a2-ead8-438e-8467-bd2da8915910",
   "metadata": {},
   "outputs": [],
   "source": [
    "phi = np.load(\"Phi_201snap.npy\")\n",
    "df = pd.DataFrame(index=np.arange(201))\n",
    "\n",
    "# Define values for k\n",
    "k_values = [1, 2, 5, 10, 20, 50, 75, 100]\n",
    "\n",
    "for i in range(201):\n",
    "    data = phi[:,:,i]\n",
    "\n",
    "    # Compute 1D (in r) and 2D FFT's\n",
    "    fft_r = np.fft.fft(data)\n",
    "    fft2 = np.fft.fft2(data)\n",
    "\n",
    "    for k in k_values:\n",
    "        # 1D\n",
    "        # Keep only the top k frequencies\n",
    "        fft_compressed1D = np.zeros_like(fft_r)\n",
    "        fft_compressed1D[:k] = fft_r[:k]\n",
    "        \n",
    "        # Reconstruct the data using inverse FFT\n",
    "        reconstructed1D = np.fft.ifft(fft_compressed1D).real\n",
    "        \n",
    "        # Compute the error (RMSE) and compression ratio\n",
    "        diff1D = #TODO: Figure out what to subtract reconstructed1D from <---------------------------------------\n",
    "        rmse1D = np.sqrt(np.mean(diff1D**2))\n",
    "        cr1D = 101 / k\n",
    "\n",
    "        # Add to dataframe\n",
    "        cr_string1D = \"CR1D_k=\" + str(k)\n",
    "        rmse_string1D = \"RMSE1D_k=\" + str(k)\n",
    "        df.at[i, cr_string1D] = cr1D\n",
    "        df.at[i, rmse_string1D] = rmse1D\n",
    "\n",
    "        # 2D\n",
    "        # Keep only the top k frequencies\n",
    "        fft_compressed2D = np.zeros_like(fft2)\n",
    "        fft_compressed2D[:k, :k] = fft2[:k, :k]\n",
    "        \n",
    "        # Reconstruct the data using inverse FFT\n",
    "        reconstructed2D = np.fft.ifft2(fft_compressed2D).real\n",
    "        \n",
    "        # Compute the error (RMSE) and compression ratio\n",
    "        diff2D = data - reconstructed2D\n",
    "        rmse2D = np.sqrt(np.mean(diff2D**2))\n",
    "        cr2D = (101 * 227) / (k * k)\n",
    "\n",
    "        # Add to dataframe\n",
    "        cr_string2D = \"CR2D_k=\" + str(k)\n",
    "        rmse_string2D = \"RMSE2D_k=\" + str(k)\n",
    "        df.at[i, cr_string2D] = cr2D\n",
    "        df.at[i, rmse_string2D] = rmse2D\n",
    "\n",
    "df"
   ]
  }
 ],
 "metadata": {
  "kernelspec": {
   "display_name": "Python 3 (ipykernel)",
   "language": "python",
   "name": "python3"
  },
  "language_info": {
   "codemirror_mode": {
    "name": "ipython",
    "version": 3
   },
   "file_extension": ".py",
   "mimetype": "text/x-python",
   "name": "python",
   "nbconvert_exporter": "python",
   "pygments_lexer": "ipython3",
   "version": "3.9.6"
  }
 },
 "nbformat": 4,
 "nbformat_minor": 5
}
