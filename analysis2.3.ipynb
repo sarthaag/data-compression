{
 "cells": [
  {
   "cell_type": "code",
   "execution_count": 1,
   "id": "40c5b294-5219-4620-a954-f45a078c036c",
   "metadata": {},
   "outputs": [],
   "source": [
    "import numpy as np\n",
    "import pandas as pd"
   ]
  },
  {
   "cell_type": "code",
   "execution_count": 2,
   "id": "8ae75a7b-4315-45f2-82c4-8fcd379d8fa6",
   "metadata": {},
   "outputs": [],
   "source": [
    "# Load data and create dataframe\n",
    "phi = np.load(\"Phi_201snap.npy\")\n",
    "df = pd.DataFrame(columns=['RMSE32', 'RMSE16'], index=np.arange(1))\n",
    "\n",
    "diff32 = phi - np.float32(phi)\n",
    "sum_of_squares32 = np.sum(diff32**2)\n",
    "range32 = np.max(diff32) - np.min(diff32)\n",
    "rms32 = (sum_of_squares32/(101*227*201))**0.5\n",
    "rmse32 = rms32/(100*range32)\n",
    "\n",
    "diff16 = phi - np.float16(phi)\n",
    "sum_of_squares16 = np.sum(diff16**2)\n",
    "range16 = np.max(diff16) - np.min(diff16)\n",
    "rms16 = (sum_of_squares16/(101*227*201))**0.5\n",
    "rmse16 = rms16/(100*range16)\n",
    "\n",
    "df.at[0, 'RMSE32'] = rmse32\n",
    "df.at[0, 'RMSE16'] = rmse16\n",
    "\n",
    "# for i in range(201):\n",
    "#     arr = phi[:,:,i]\n",
    "    \n",
    "#     # Convert to 32b then 64b\n",
    "#     arr32 = np.float64(np.float32(arr))\n",
    "\n",
    "#     # Convert to 16b then 64b\n",
    "#     arr16 = np.float64(np.float16(arr))\n",
    "\n",
    "#     # Compute RMSE's and add to dataframe\n",
    "#     rmse32 = np.sqrt(np.mean((arr-arr32)**2))\n",
    "#     rmse16 = np.sqrt(np.mean((arr-arr16)**2))\n",
    "#     df.at[i, 'RMSE32'] = rmse32\n",
    "#     df.at[i, 'RMSE16'] = rmse16\n",
    "\n",
    "# The above code was for the norm calculation being done previously, now being replaced by RMSE.\n",
    "\n",
    "df.to_pickle(\"analysis2.3.pkl\")"
   ]
  },
  {
   "cell_type": "code",
   "execution_count": 4,
   "id": "b88fa6b9-4db5-4398-be6b-3a0c416e41e9",
   "metadata": {},
   "outputs": [
    {
     "name": "stdout",
     "output_type": "stream",
     "text": [
      "True False\n"
     ]
    }
   ],
   "source": [
    "y = np.float64(phi)\n",
    "z = np.float32(phi)\n",
    "print(np.array_equal(phi, y), np.array_equal(phi, z))"
   ]
  },
  {
   "cell_type": "code",
   "execution_count": 12,
   "id": "9efd3c48-03bd-4656-a513-099ed716a70a",
   "metadata": {},
   "outputs": [
    {
     "data": {
      "text/plain": [
       "dtype('float64')"
      ]
     },
     "execution_count": 12,
     "metadata": {},
     "output_type": "execute_result"
    }
   ],
   "source": [
    "sum_of_squares16.dtype"
   ]
  },
  {
   "cell_type": "code",
   "execution_count": null,
   "id": "b16c37b4-8624-4b50-a05c-55a76d1c6e57",
   "metadata": {},
   "outputs": [],
   "source": []
  }
 ],
 "metadata": {
  "kernelspec": {
   "display_name": "Python 3 (ipykernel)",
   "language": "python",
   "name": "python3"
  },
  "language_info": {
   "codemirror_mode": {
    "name": "ipython",
    "version": 3
   },
   "file_extension": ".py",
   "mimetype": "text/x-python",
   "name": "python",
   "nbconvert_exporter": "python",
   "pygments_lexer": "ipython3",
   "version": "3.9.6"
  }
 },
 "nbformat": 4,
 "nbformat_minor": 5
}
