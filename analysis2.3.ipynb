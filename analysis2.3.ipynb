{
 "cells": [
  {
   "cell_type": "code",
   "execution_count": 6,
   "id": "40c5b294-5219-4620-a954-f45a078c036c",
   "metadata": {},
   "outputs": [],
   "source": [
    "import numpy as np\n",
    "import pandas as pd"
   ]
  },
  {
   "cell_type": "code",
   "execution_count": 9,
   "id": "8ae75a7b-4315-45f2-82c4-8fcd379d8fa6",
   "metadata": {},
   "outputs": [],
   "source": [
    "# Load data and create dataframe\n",
    "phi = np.load(\"Phi_201snap.npy\")\n",
    "df = pd.DataFrame(columns=['RMSE32', 'RMSE16'], index=np.arange(201))\n",
    "\n",
    "for i in range(201):\n",
    "    arr = phi[:,:,i]\n",
    "    \n",
    "    # Convert to 32b then 64b\n",
    "    arr32 = np.float64(np.float32(arr))\n",
    "\n",
    "    # Convert to 16b then 64b\n",
    "    arr16 = np.float64(np.float16(arr))\n",
    "\n",
    "    # Compute norms and add to dataframe\n",
    "    rmse32 = np.sqrt(np.mean((arr-arr32)**2))\n",
    "    rmse16 = np.sqrt(np.mean((arr-arr16)**2))\n",
    "    df.at[i, 'RMSE32'] = rmse32\n",
    "    df.at[i, 'RMSE16'] = rmse16\n",
    "df.to_pickle(\"analysis2.3.pkl\")"
   ]
  },
  {
   "cell_type": "code",
   "execution_count": 28,
   "id": "b88fa6b9-4db5-4398-be6b-3a0c416e41e9",
   "metadata": {},
   "outputs": [
    {
     "data": {
      "text/plain": [
       "(True, False)"
      ]
     },
     "execution_count": 28,
     "metadata": {},
     "output_type": "execute_result"
    }
   ],
   "source": [
    "example = phi[:,:,160]\n",
    "y = np.float64(example)\n",
    "z = np.float32(example)\n",
    "np.array_equal(example, y), np.array_equal(example, z)"
   ]
  }
 ],
 "metadata": {
  "kernelspec": {
   "display_name": "Python 3 (ipykernel)",
   "language": "python",
   "name": "python3"
  },
  "language_info": {
   "codemirror_mode": {
    "name": "ipython",
    "version": 3
   },
   "file_extension": ".py",
   "mimetype": "text/x-python",
   "name": "python",
   "nbconvert_exporter": "python",
   "pygments_lexer": "ipython3",
   "version": "3.9.6"
  }
 },
 "nbformat": 4,
 "nbformat_minor": 5
}
