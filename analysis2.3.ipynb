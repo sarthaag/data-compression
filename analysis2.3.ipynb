{
 "cells": [
  {
   "cell_type": "code",
   "execution_count": 1,
   "id": "40c5b294-5219-4620-a954-f45a078c036c",
   "metadata": {},
   "outputs": [],
   "source": [
    "import numpy as np\n",
    "import pandas as pd"
   ]
  },
  {
   "cell_type": "code",
   "execution_count": 29,
   "id": "8ae75a7b-4315-45f2-82c4-8fcd379d8fa6",
   "metadata": {},
   "outputs": [
    {
     "ename": "AttributeError",
     "evalue": "module 'numpy' has no attribute 'float8'",
     "output_type": "error",
     "traceback": [
      "\u001b[0;31m---------------------------------------------------------------------------\u001b[0m",
      "\u001b[0;31mAttributeError\u001b[0m                            Traceback (most recent call last)",
      "Cell \u001b[0;32mIn[29], line 16\u001b[0m\n\u001b[1;32m     13\u001b[0m arr16 \u001b[38;5;241m=\u001b[39m np\u001b[38;5;241m.\u001b[39mfloat64(np\u001b[38;5;241m.\u001b[39mfloat16(arr))\n\u001b[1;32m     15\u001b[0m \u001b[38;5;66;03m# Convert to 8b then 64b\u001b[39;00m\n\u001b[0;32m---> 16\u001b[0m arr8 \u001b[38;5;241m=\u001b[39m np\u001b[38;5;241m.\u001b[39mfloat64(\u001b[43mnp\u001b[49m\u001b[38;5;241;43m.\u001b[39;49m\u001b[43mfloat8\u001b[49m(arr))\n\u001b[1;32m     18\u001b[0m \u001b[38;5;66;03m# Compute norms and add to dataframe\u001b[39;00m\n\u001b[1;32m     19\u001b[0m norm32 \u001b[38;5;241m=\u001b[39m np\u001b[38;5;241m.\u001b[39mlinalg\u001b[38;5;241m.\u001b[39mnorm(arr \u001b[38;5;241m-\u001b[39m arr32)\n",
      "File \u001b[0;32m~/Library/Python/3.9/lib/python/site-packages/numpy/__init__.py:333\u001b[0m, in \u001b[0;36m__getattr__\u001b[0;34m(attr)\u001b[0m\n\u001b[1;32m    330\u001b[0m     \u001b[38;5;124m\"\u001b[39m\u001b[38;5;124mRemoved in NumPy 1.25.0\u001b[39m\u001b[38;5;124m\"\u001b[39m\n\u001b[1;32m    331\u001b[0m     \u001b[38;5;28;01mraise\u001b[39;00m \u001b[38;5;167;01mRuntimeError\u001b[39;00m(\u001b[38;5;124m\"\u001b[39m\u001b[38;5;124mTester was removed in NumPy 1.25.\u001b[39m\u001b[38;5;124m\"\u001b[39m)\n\u001b[0;32m--> 333\u001b[0m \u001b[38;5;28;01mraise\u001b[39;00m \u001b[38;5;167;01mAttributeError\u001b[39;00m(\u001b[38;5;124m\"\u001b[39m\u001b[38;5;124mmodule \u001b[39m\u001b[38;5;132;01m{!r}\u001b[39;00m\u001b[38;5;124m has no attribute \u001b[39m\u001b[38;5;124m\"\u001b[39m\n\u001b[1;32m    334\u001b[0m                      \u001b[38;5;124m\"\u001b[39m\u001b[38;5;132;01m{!r}\u001b[39;00m\u001b[38;5;124m\"\u001b[39m\u001b[38;5;241m.\u001b[39mformat(\u001b[38;5;18m__name__\u001b[39m, attr))\n",
      "\u001b[0;31mAttributeError\u001b[0m: module 'numpy' has no attribute 'float8'"
     ]
    }
   ],
   "source": [
    "# Load data and create dataframe\n",
    "phi = np.load(\"Phi_201snap.npy\")\n",
    "df = pd.DataFrame(index=np.arange(201), columns=np.arange(3))\n",
    "df.rename(columns={0: 'norm32', 1: 'norm16', 2: 'norm8'}, inplace=True)\n",
    "\n",
    "for i in range(201):\n",
    "    arr = phi[:,:,i]\n",
    "    \n",
    "    # Convert to 32b then 64b\n",
    "    arr32 = np.float64(np.float32(arr))\n",
    "\n",
    "    # Convert to 16b then 64b\n",
    "    arr16 = np.float64(np.float16(arr))\n",
    "\n",
    "    # Convert to 8b then 64b\n",
    "    arr8 = np.float64(np.float8(arr))\n",
    "\n",
    "    # Compute norms and add to dataframe\n",
    "    norm32 = np.linalg.norm(arr - arr32)\n",
    "    norm16 = np.linalg.norm(arr - arr16)\n",
    "    norm8 = np.linalg.norm(arr - arr8)\n",
    "    df.at[i, 'norm32'] = norm32\n",
    "    df.at[i, 'norm16'] = norm16\n",
    "    df.at[i, 'norm8'] = norm8\n",
    "\n",
    "df"
   ]
  },
  {
   "cell_type": "code",
   "execution_count": 28,
   "id": "b88fa6b9-4db5-4398-be6b-3a0c416e41e9",
   "metadata": {},
   "outputs": [
    {
     "data": {
      "text/plain": [
       "(True, False)"
      ]
     },
     "execution_count": 28,
     "metadata": {},
     "output_type": "execute_result"
    }
   ],
   "source": [
    "example = phi[:,:,160]\n",
    "y = np.float64(example)\n",
    "z = np.float32(example)\n",
    "np.array_equal(example, y), np.array_equal(example, z)\n"
   ]
  }
 ],
 "metadata": {
  "kernelspec": {
   "display_name": "Python 3 (ipykernel)",
   "language": "python",
   "name": "python3"
  },
  "language_info": {
   "codemirror_mode": {
    "name": "ipython",
    "version": 3
   },
   "file_extension": ".py",
   "mimetype": "text/x-python",
   "name": "python",
   "nbconvert_exporter": "python",
   "pygments_lexer": "ipython3",
   "version": "3.9.6"
  }
 },
 "nbformat": 4,
 "nbformat_minor": 5
}
