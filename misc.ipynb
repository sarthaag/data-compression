{
 "cells": [
  {
   "cell_type": "code",
   "execution_count": 4,
   "id": "abb1a776-a831-4b4c-a495-756442d2a04d",
   "metadata": {},
   "outputs": [],
   "source": [
    "import numpy as np\n",
    "import os"
   ]
  },
  {
   "cell_type": "code",
   "execution_count": 5,
   "id": "a3123f8a-2154-46ab-af39-59a4e0dbb29d",
   "metadata": {},
   "outputs": [
    {
     "data": {
      "text/plain": [
       "8.000027775806709"
      ]
     },
     "execution_count": 5,
     "metadata": {},
     "output_type": "execute_result"
    }
   ],
   "source": [
    "# Confirming that the size of the elements in phi is actually 64b\n",
    "\n",
    "phi = np.load(\"Phi_201snap.npy\")\n",
    "size = os.stat('Phi_201snap.npy').st_size\n",
    "one_element_size = size/(101*227*201)\n",
    "one_element_size"
   ]
  },
  {
   "cell_type": "code",
   "execution_count": null,
   "id": "0d7ac7db-4f89-460f-9992-672e8ac21c6c",
   "metadata": {},
   "outputs": [],
   "source": [
    "# Since the size of an element is about 8 bytes, it's likely 64b."
   ]
  }
 ],
 "metadata": {
  "kernelspec": {
   "display_name": "Python 3 (ipykernel)",
   "language": "python",
   "name": "python3"
  },
  "language_info": {
   "codemirror_mode": {
    "name": "ipython",
    "version": 3
   },
   "file_extension": ".py",
   "mimetype": "text/x-python",
   "name": "python",
   "nbconvert_exporter": "python",
   "pygments_lexer": "ipython3",
   "version": "3.9.6"
  }
 },
 "nbformat": 4,
 "nbformat_minor": 5
}
