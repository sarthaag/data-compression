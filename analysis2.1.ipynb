{
 "cells": [
  {
   "cell_type": "code",
   "execution_count": 29,
   "id": "7ecb1932-a586-49bc-8b61-c3a1e0b84438",
   "metadata": {},
   "outputs": [],
   "source": [
    "import numpy as np \n",
    "import pandas as pd\n",
    "import matplotlib.pyplot as plt\n",
    "from PIL import Image"
   ]
  },
  {
   "cell_type": "code",
   "execution_count": 87,
   "id": "57062785-b21d-45f6-993e-aa09d884fafa",
   "metadata": {},
   "outputs": [
    {
     "data": {
      "text/html": [
       "<div>\n",
       "<style scoped>\n",
       "    .dataframe tbody tr th:only-of-type {\n",
       "        vertical-align: middle;\n",
       "    }\n",
       "\n",
       "    .dataframe tbody tr th {\n",
       "        vertical-align: top;\n",
       "    }\n",
       "\n",
       "    .dataframe thead th {\n",
       "        text-align: right;\n",
       "    }\n",
       "</style>\n",
       "<table border=\"1\" class=\"dataframe\">\n",
       "  <thead>\n",
       "    <tr style=\"text-align: right;\">\n",
       "      <th></th>\n",
       "      <th>norm</th>\n",
       "    </tr>\n",
       "  </thead>\n",
       "  <tbody>\n",
       "    <tr>\n",
       "      <th>0</th>\n",
       "      <td>NaN</td>\n",
       "    </tr>\n",
       "    <tr>\n",
       "      <th>1</th>\n",
       "      <td>NaN</td>\n",
       "    </tr>\n",
       "    <tr>\n",
       "      <th>2</th>\n",
       "      <td>NaN</td>\n",
       "    </tr>\n",
       "    <tr>\n",
       "      <th>3</th>\n",
       "      <td>NaN</td>\n",
       "    </tr>\n",
       "    <tr>\n",
       "      <th>4</th>\n",
       "      <td>NaN</td>\n",
       "    </tr>\n",
       "    <tr>\n",
       "      <th>...</th>\n",
       "      <td>...</td>\n",
       "    </tr>\n",
       "    <tr>\n",
       "      <th>196</th>\n",
       "      <td>NaN</td>\n",
       "    </tr>\n",
       "    <tr>\n",
       "      <th>197</th>\n",
       "      <td>NaN</td>\n",
       "    </tr>\n",
       "    <tr>\n",
       "      <th>198</th>\n",
       "      <td>NaN</td>\n",
       "    </tr>\n",
       "    <tr>\n",
       "      <th>199</th>\n",
       "      <td>NaN</td>\n",
       "    </tr>\n",
       "    <tr>\n",
       "      <th>200</th>\n",
       "      <td>NaN</td>\n",
       "    </tr>\n",
       "  </tbody>\n",
       "</table>\n",
       "<p>201 rows × 1 columns</p>\n",
       "</div>"
      ],
      "text/plain": [
       "    norm\n",
       "0    NaN\n",
       "1    NaN\n",
       "2    NaN\n",
       "3    NaN\n",
       "4    NaN\n",
       "..   ...\n",
       "196  NaN\n",
       "197  NaN\n",
       "198  NaN\n",
       "199  NaN\n",
       "200  NaN\n",
       "\n",
       "[201 rows x 1 columns]"
      ]
     },
     "execution_count": 87,
     "metadata": {},
     "output_type": "execute_result"
    }
   ],
   "source": [
    "# Load data and create dataframe\n",
    "phi = np.load(\"Phi_201snap.npy\")\n",
    "df = pd.DataFrame(columns=['norm'], index=np.arange(201))\n",
    "my_dpi = 192\n",
    "\n",
    "for i in range(201):\n",
    "    arr = phi[:,:,i]\n",
    "\n",
    "    # Plot image (raw automatically converted to grayscale)\n",
    "    plt.figure(figsize=(294/my_dpi, 165/my_dpi), dpi=my_dpi)\n",
    "    plt.imshow(arr, cmap='gray')\n",
    "    plt.axis(\"off\")\n",
    "\n",
    "    # Save as JPG and open again to convert to np array\n",
    "    plt.savefig('analysis2.1.jpg', bbox_inches='tight', pad_inches=0)\n",
    "    plt.close()\n",
    "    im = Image.open('analysis2.1.jpg')\n",
    "    output_array = np.asarray(im)\n",
    "\n",
    "    # Create convert function to use to convert output_array back to raw values\n",
    "    phimax, phimin = np.max(arr), np.min(arr)\n",
    "    ratio = (phimax-phimin)/255\n",
    "    def convertRGBToRaw(x):\n",
    "        return ratio*x + phimin\n",
    "\n",
    "    # Loop through output_array and replace RGB by raw in copy\n",
    "    copy = arr.copy()\n",
    "    for i, row in enumerate(output_array):\n",
    "        for j, col in enumerate(row):\n",
    "            copy[i][j] = convertRGBToRaw(col[0])\n",
    "\n",
    "    # Compute norm and add to dataframe\n",
    "    diff = copy - arr\n",
    "    norm = np.linalg.norm(diff)\n",
    "    df.at[i, 'norm'] = norm\n",
    "df"
   ]
  },
  {
   "cell_type": "code",
   "execution_count": 78,
   "id": "c83cc486-1904-4b22-a07e-928c09e21e17",
   "metadata": {},
   "outputs": [
    {
     "data": {
      "text/plain": [
       "array([[-1.33610863e-03, -1.33610863e-03, -1.33610863e-03, ...,\n",
       "        -4.01359608e-04, -4.01359608e-04, -4.01359608e-04],\n",
       "       [-6.07298627e-04, -7.33118627e-04, -8.58938627e-04, ...,\n",
       "        -4.30698627e-04, -5.18998627e-04, -6.07298627e-04],\n",
       "       [-1.49988627e-04, -3.37468627e-04, -5.24948627e-04, ...,\n",
       "        -1.62751667e-03, -1.82350667e-03, -2.01948667e-03],\n",
       "       ...,\n",
       "       [ 1.32854937e-03,  1.09334437e-03,  8.82910373e-04, ...,\n",
       "        -2.42016667e-05, -2.86645767e-04, -5.40948667e-04],\n",
       "       [ 5.11108353e-04,  3.78283353e-04,  2.59606353e-04, ...,\n",
       "        -1.33774667e-04, -2.80641567e-04, -4.23640667e-04],\n",
       "       [ 7.41856353e-04,  7.08243353e-04,  6.74125753e-04, ...,\n",
       "        -1.43378667e-04, -1.65253667e-04, -1.92892667e-04]])"
      ]
     },
     "execution_count": 78,
     "metadata": {},
     "output_type": "execute_result"
    },
    {
     "data": {
      "image/png": "[encoded data removed]",
      "text/plain": [
       "<Figure size 294x165 with 1 Axes>"
      ]
     },
     "metadata": {},
     "output_type": "display_data"
    }
   ],
   "source": [
    "# Example with i = 160\n",
    "phi = np.load(\"Phi_201snap.npy\")\n",
    "arr = phi[:,:,160]\n",
    "plt.figure(figsize=(294/my_dpi, 165/my_dpi), dpi=my_dpi)\n",
    "plt.imshow(arr, cmap='gray')\n",
    "plt.axis(\"off\")\n",
    "plt.savefig('analysis2.1.jpg', bbox_inches='tight', pad_inches=0)\n",
    "im = Image.open('analysis2.1.jpg')\n",
    "output_array = np.asarray(im)\n",
    "output_array\n",
    "copy = arr.copy()\n",
    "phimax, phimin = np.max(arr), np.min(arr)\n",
    "ratio = (phimax-phimin)/255\n",
    "def convertRGBToRaw(x):\n",
    "    return ratio*x + phimin\n",
    "for i, row in enumerate(output_array):\n",
    "    for j, col in enumerate(row):\n",
    "        copy[i][j] = convertRGBToRaw(col[0])\n",
    "norm = np.linalg.norm(copy - arr)\n",
    "copy - arr"
   ]
  },
  {
   "cell_type": "code",
   "execution_count": null,
   "id": "ccbee0ed-2a8f-4ca5-8544-bf77e297ed35",
   "metadata": {},
   "outputs": [],
   "source": []
  }
 ],
 "metadata": {
  "kernelspec": {
   "display_name": "Python 3 (ipykernel)",
   "language": "python",
   "name": "python3"
  },
  "language_info": {
   "codemirror_mode": {
    "name": "ipython",
    "version": 3
   },
   "file_extension": ".py",
   "mimetype": "text/x-python",
   "name": "python",
   "nbconvert_exporter": "python",
   "pygments_lexer": "ipython3",
   "version": "3.9.6"
  }
 },
 "nbformat": 4,
 "nbformat_minor": 5
}
