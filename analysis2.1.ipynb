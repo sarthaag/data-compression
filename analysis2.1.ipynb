{
 "cells": [
  {
   "cell_type": "code",
   "execution_count": 16,
   "id": "7ecb1932-a586-49bc-8b61-c3a1e0b84438",
   "metadata": {},
   "outputs": [],
   "source": [
    "import numpy as np \n",
    "import pandas as pd\n",
    "import matplotlib.pyplot as plt\n",
    "import os\n",
    "from PIL import Image\n",
    "\n",
    "my_dpi = 192"
   ]
  },
  {
   "cell_type": "code",
   "execution_count": 17,
   "id": "57062785-b21d-45f6-993e-aa09d884fafa",
   "metadata": {},
   "outputs": [
    {
     "data": {
      "text/html": [
       "<div>\n",
       "<style scoped>\n",
       "    .dataframe tbody tr th:only-of-type {\n",
       "        vertical-align: middle;\n",
       "    }\n",
       "\n",
       "    .dataframe tbody tr th {\n",
       "        vertical-align: top;\n",
       "    }\n",
       "\n",
       "    .dataframe thead th {\n",
       "        text-align: right;\n",
       "    }\n",
       "</style>\n",
       "<table border=\"1\" class=\"dataframe\">\n",
       "  <thead>\n",
       "    <tr style=\"text-align: right;\">\n",
       "      <th></th>\n",
       "      <th>compression ratio</th>\n",
       "      <th>norm</th>\n",
       "    </tr>\n",
       "  </thead>\n",
       "  <tbody>\n",
       "    <tr>\n",
       "      <th>0</th>\n",
       "      <td>4.148863</td>\n",
       "      <td>0.0</td>\n",
       "    </tr>\n",
       "    <tr>\n",
       "      <th>1</th>\n",
       "      <td>4.128169</td>\n",
       "      <td>0.0</td>\n",
       "    </tr>\n",
       "    <tr>\n",
       "      <th>2</th>\n",
       "      <td>3.985854</td>\n",
       "      <td>0.0</td>\n",
       "    </tr>\n",
       "    <tr>\n",
       "      <th>3</th>\n",
       "      <td>3.891004</td>\n",
       "      <td>0.0</td>\n",
       "    </tr>\n",
       "    <tr>\n",
       "      <th>4</th>\n",
       "      <td>3.999041</td>\n",
       "      <td>0.0</td>\n",
       "    </tr>\n",
       "    <tr>\n",
       "      <th>...</th>\n",
       "      <td>...</td>\n",
       "      <td>...</td>\n",
       "    </tr>\n",
       "    <tr>\n",
       "      <th>196</th>\n",
       "      <td>3.425889</td>\n",
       "      <td>1.414913</td>\n",
       "    </tr>\n",
       "    <tr>\n",
       "      <th>197</th>\n",
       "      <td>3.333994</td>\n",
       "      <td>1.557132</td>\n",
       "    </tr>\n",
       "    <tr>\n",
       "      <th>198</th>\n",
       "      <td>3.298053</td>\n",
       "      <td>1.722431</td>\n",
       "    </tr>\n",
       "    <tr>\n",
       "      <th>199</th>\n",
       "      <td>3.361852</td>\n",
       "      <td>1.913616</td>\n",
       "    </tr>\n",
       "    <tr>\n",
       "      <th>200</th>\n",
       "      <td>3.387097</td>\n",
       "      <td>2.156553</td>\n",
       "    </tr>\n",
       "  </tbody>\n",
       "</table>\n",
       "<p>201 rows × 2 columns</p>\n",
       "</div>"
      ],
      "text/plain": [
       "    compression ratio      norm\n",
       "0            4.148863       0.0\n",
       "1            4.128169       0.0\n",
       "2            3.985854       0.0\n",
       "3            3.891004       0.0\n",
       "4            3.999041       0.0\n",
       "..                ...       ...\n",
       "196          3.425889  1.414913\n",
       "197          3.333994  1.557132\n",
       "198          3.298053  1.722431\n",
       "199          3.361852  1.913616\n",
       "200          3.387097  2.156553\n",
       "\n",
       "[201 rows x 2 columns]"
      ]
     },
     "execution_count": 17,
     "metadata": {},
     "output_type": "execute_result"
    }
   ],
   "source": [
    "# Load data and create dataframe\n",
    "phi = np.load(\"Phi_201snap.npy\")\n",
    "df = pd.DataFrame(columns=['compression ratio', 'norm'], index=np.arange(201))\n",
    "\n",
    "for i in range(201):\n",
    "    arr = phi[:,:,i]\n",
    "\n",
    "    # Plot image (raw automatically converted to grayscale)\n",
    "    plt.figure(figsize=(294/my_dpi, 165/my_dpi), dpi=my_dpi)\n",
    "    plt.imshow(arr, cmap='gray')\n",
    "    plt.axis(\"off\")\n",
    "\n",
    "    # Save as PNG & JPG and open JPG again to convert to np array\n",
    "    plt.savefig('analysis2.1.png', bbox_inches='tight', pad_inches=0)\n",
    "    plt.savefig('analysis2.1.jpg', bbox_inches='tight', pad_inches=0)\n",
    "    plt.close()\n",
    "    im = Image.open('analysis2.1.jpg')\n",
    "    output_array = np.asarray(im)\n",
    "\n",
    "    # Create convert function to use to convert output_array back to raw values\n",
    "    phimax, phimin = np.max(arr), np.min(arr)\n",
    "    ratio = (phimax-phimin)/255\n",
    "    def convertRGBToRaw(x):\n",
    "        return ratio*x + phimin\n",
    "\n",
    "    # Loop through output_array and replace RGB by raw in copy\n",
    "    copy = arr.copy()\n",
    "    for row_index, row in enumerate(output_array):\n",
    "        for col_index, col in enumerate(row):\n",
    "            copy[row_index][col_index] = convertRGBToRaw(col[0])\n",
    "\n",
    "    # Compute norm and compression ratio and add to dataframe\n",
    "    in_imsize = os.stat('analysis2.1.png').st_size\n",
    "    out_imsize = os.stat('analysis2.1.jpg').st_size\n",
    "    df.at[i, 'compression ratio'] = in_imsize/out_imsize\n",
    "    \n",
    "    diff = copy - arr\n",
    "    norm = np.linalg.norm(diff)\n",
    "    df.at[i, 'norm'] = norm\n",
    "df"
   ]
  },
  {
   "cell_type": "code",
   "execution_count": 4,
   "id": "ccbee0ed-2a8f-4ca5-8544-bf77e297ed35",
   "metadata": {},
   "outputs": [
    {
     "data": {
      "text/plain": [
       "0"
      ]
     },
     "execution_count": 4,
     "metadata": {},
     "output_type": "execute_result"
    }
   ],
   "source": [
    "df['norm'].isnull().sum() # counting total number of NaN's in df\n",
    "# np.isnan(np.sum(phi)) # returns true if there's at least one NaN in phi, false otherwise"
   ]
  },
  {
   "cell_type": "code",
   "execution_count": 5,
   "id": "c83cc486-1904-4b22-a07e-928c09e21e17",
   "metadata": {},
   "outputs": [
    {
     "data": {
      "text/plain": [
       "1.3469364304465263e-08"
      ]
     },
     "execution_count": 5,
     "metadata": {},
     "output_type": "execute_result"
    }
   ],
   "source": [
    "# Computing single norms without for loop\n",
    "i = 0\n",
    "\n",
    "my_dpi = 192\n",
    "phi = np.load(\"Phi_201snap.npy\")\n",
    "arr = phi[:,:,i] \n",
    "plt.figure(figsize=(294/my_dpi, 165/my_dpi), dpi=my_dpi)\n",
    "plt.imshow(arr, cmap='gray')\n",
    "plt.axis(\"off\")\n",
    "plt.savefig('analysis2.1.jpg', bbox_inches='tight', pad_inches=0)\n",
    "plt.close()\n",
    "im = Image.open('analysis2.1.jpg')\n",
    "output_array = np.asarray(im)\n",
    "output_array\n",
    "copy = arr.copy()\n",
    "phimax, phimin = np.max(arr), np.min(arr)\n",
    "ratio = (phimax-phimin)/255\n",
    "def convertRGBToRaw(x):\n",
    "    return ratio*x + phimin\n",
    "for i, row in enumerate(output_array):\n",
    "    for j, col in enumerate(row):\n",
    "        copy[i][j] = convertRGBToRaw(col[0])\n",
    "norm = np.linalg.norm(copy - arr)\n",
    "norm"
   ]
  }
 ],
 "metadata": {
  "kernelspec": {
   "display_name": "Python 3 (ipykernel)",
   "language": "python",
   "name": "python3"
  },
  "language_info": {
   "codemirror_mode": {
    "name": "ipython",
    "version": 3
   },
   "file_extension": ".py",
   "mimetype": "text/x-python",
   "name": "python",
   "nbconvert_exporter": "python",
   "pygments_lexer": "ipython3",
   "version": "3.9.6"
  }
 },
 "nbformat": 4,
 "nbformat_minor": 5
}
