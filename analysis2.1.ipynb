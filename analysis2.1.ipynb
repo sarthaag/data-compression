{
 "cells": [
  {
   "cell_type": "code",
   "execution_count": 18,
   "id": "7ecb1932-a586-49bc-8b61-c3a1e0b84438",
   "metadata": {},
   "outputs": [],
   "source": [
    "import numpy as np \n",
    "import pandas as pd\n",
    "import matplotlib.pyplot as plt\n",
    "import os\n",
    "from PIL import Image\n",
    "\n",
    "my_dpi = 192"
   ]
  },
  {
   "cell_type": "code",
   "execution_count": 20,
   "id": "57062785-b21d-45f6-993e-aa09d884fafa",
   "metadata": {},
   "outputs": [],
   "source": [
    "# Load data and create dataframe\n",
    "phi = np.load(\"Phi_201snap.npy\")\n",
    "df = pd.DataFrame(columns=['CR2.1', 'RMSE2.1'], index=np.arange(201))\n",
    "\n",
    "for i in range(201):\n",
    "    arr = phi[:,:,i]\n",
    "\n",
    "    # Plot image (raw automatically converted to grayscale)\n",
    "    plt.figure(figsize=(294/my_dpi, 165/my_dpi), dpi=my_dpi)\n",
    "    plt.imshow(arr, cmap='gray')\n",
    "    plt.axis(\"off\")\n",
    "\n",
    "    # Save as PNG & JPG and open JPG again to convert to np array\n",
    "    plt.savefig('analysis2.1.png', bbox_inches='tight', pad_inches=0)\n",
    "    plt.savefig('analysis2.1.jpg', bbox_inches='tight', pad_inches=0)\n",
    "    plt.close()\n",
    "    im = Image.open('analysis2.1.jpg')\n",
    "    output_array = np.asarray(im)\n",
    "\n",
    "    # Create convert function to use to convert output_array back to raw values\n",
    "    phimax, phimin = np.max(arr), np.min(arr)\n",
    "    ratio = (phimax-phimin)/255\n",
    "    def convertRGBToRaw(x):\n",
    "        return ratio*x + phimin\n",
    "\n",
    "    # Loop through output_array and replace RGB by raw in copy\n",
    "    copy = arr.copy()\n",
    "    for row_index, row in enumerate(output_array):\n",
    "        for col_index, col in enumerate(row):\n",
    "            copy[row_index][col_index] = convertRGBToRaw(col[0])\n",
    "\n",
    "    # Compute norm and compression ratio and add to dataframe\n",
    "    in_imsize = os.stat('analysis2.1.png').st_size\n",
    "    out_imsize = os.stat('analysis2.1.jpg').st_size\n",
    "    df.at[i, 'CR2.1'] = in_imsize/out_imsize\n",
    "    \n",
    "    diff = copy - arr\n",
    "    rmse = np.sqrt(np.mean(diff**2))\n",
    "    df.at[i, 'RMSE2.1'] = rmse\n",
    "df.to_pickle(\"analysis2.1.pkl\")"
   ]
  },
  {
   "cell_type": "code",
   "execution_count": 5,
   "id": "c83cc486-1904-4b22-a07e-928c09e21e17",
   "metadata": {},
   "outputs": [
    {
     "data": {
      "text/plain": [
       "1.3469364304465263e-08"
      ]
     },
     "execution_count": 5,
     "metadata": {},
     "output_type": "execute_result"
    }
   ],
   "source": [
    "# Computing single norms without for loop\n",
    "i = 0\n",
    "\n",
    "my_dpi = 192\n",
    "phi = np.load(\"Phi_201snap.npy\")\n",
    "arr = phi[:,:,i] \n",
    "plt.figure(figsize=(294/my_dpi, 165/my_dpi), dpi=my_dpi)\n",
    "plt.imshow(arr, cmap='gray')\n",
    "plt.axis(\"off\")\n",
    "plt.savefig('analysis2.1.jpg', bbox_inches='tight', pad_inches=0)\n",
    "plt.close()\n",
    "im = Image.open('analysis2.1.jpg')\n",
    "output_array = np.asarray(im)\n",
    "output_array\n",
    "copy = arr.copy()\n",
    "phimax, phimin = np.max(arr), np.min(arr)\n",
    "ratio = (phimax-phimin)/255\n",
    "def convertRGBToRaw(x):\n",
    "    return ratio*x + phimin\n",
    "for i, row in enumerate(output_array):\n",
    "    for j, col in enumerate(row):\n",
    "        copy[i][j] = convertRGBToRaw(col[0])\n",
    "norm = np.linalg.norm(copy - arr)\n",
    "norm"
   ]
  }
 ],
 "metadata": {
  "kernelspec": {
   "display_name": "Python 3 (ipykernel)",
   "language": "python",
   "name": "python3"
  },
  "language_info": {
   "codemirror_mode": {
    "name": "ipython",
    "version": 3
   },
   "file_extension": ".py",
   "mimetype": "text/x-python",
   "name": "python",
   "nbconvert_exporter": "python",
   "pygments_lexer": "ipython3",
   "version": "3.9.6"
  }
 },
 "nbformat": 4,
 "nbformat_minor": 5
}
