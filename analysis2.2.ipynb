{
 "cells": [
  {
   "cell_type": "code",
   "execution_count": 2,
   "id": "cb160bd1-3f11-4e00-b96d-912708061b0d",
   "metadata": {},
   "outputs": [],
   "source": [
    "import numpy as np \n",
    "import pandas as pd\n",
    "import matplotlib.pyplot as plt\n",
    "from scipy.interpolate import griddata\n",
    "from PIL import Image\n",
    "\n",
    "my_dpi = 192"
   ]
  },
  {
   "cell_type": "code",
   "execution_count": 23,
   "id": "9b31bfd3-7a9d-4db3-881d-ea35e8e6ab74",
   "metadata": {},
   "outputs": [
    {
     "data": {
      "text/html": [
       "<div>\n",
       "<style scoped>\n",
       "    .dataframe tbody tr th:only-of-type {\n",
       "        vertical-align: middle;\n",
       "    }\n",
       "\n",
       "    .dataframe tbody tr th {\n",
       "        vertical-align: top;\n",
       "    }\n",
       "\n",
       "    .dataframe thead th {\n",
       "        text-align: right;\n",
       "    }\n",
       "</style>\n",
       "<table border=\"1\" class=\"dataframe\">\n",
       "  <thead>\n",
       "    <tr style=\"text-align: right;\">\n",
       "      <th></th>\n",
       "      <th>norm</th>\n",
       "    </tr>\n",
       "  </thead>\n",
       "  <tbody>\n",
       "    <tr>\n",
       "      <th>0</th>\n",
       "      <td>NaN</td>\n",
       "    </tr>\n",
       "    <tr>\n",
       "      <th>1</th>\n",
       "      <td>NaN</td>\n",
       "    </tr>\n",
       "    <tr>\n",
       "      <th>2</th>\n",
       "      <td>NaN</td>\n",
       "    </tr>\n",
       "    <tr>\n",
       "      <th>3</th>\n",
       "      <td>NaN</td>\n",
       "    </tr>\n",
       "    <tr>\n",
       "      <th>4</th>\n",
       "      <td>NaN</td>\n",
       "    </tr>\n",
       "    <tr>\n",
       "      <th>...</th>\n",
       "      <td>...</td>\n",
       "    </tr>\n",
       "    <tr>\n",
       "      <th>197</th>\n",
       "      <td>NaN</td>\n",
       "    </tr>\n",
       "    <tr>\n",
       "      <th>198</th>\n",
       "      <td>NaN</td>\n",
       "    </tr>\n",
       "    <tr>\n",
       "      <th>199</th>\n",
       "      <td>NaN</td>\n",
       "    </tr>\n",
       "    <tr>\n",
       "      <th>200</th>\n",
       "      <td>NaN</td>\n",
       "    </tr>\n",
       "    <tr>\n",
       "      <th>202</th>\n",
       "      <td>2.3852</td>\n",
       "    </tr>\n",
       "  </tbody>\n",
       "</table>\n",
       "<p>202 rows × 1 columns</p>\n",
       "</div>"
      ],
      "text/plain": [
       "       norm\n",
       "0       NaN\n",
       "1       NaN\n",
       "2       NaN\n",
       "3       NaN\n",
       "4       NaN\n",
       "..      ...\n",
       "197     NaN\n",
       "198     NaN\n",
       "199     NaN\n",
       "200     NaN\n",
       "202  2.3852\n",
       "\n",
       "[202 rows x 1 columns]"
      ]
     },
     "execution_count": 23,
     "metadata": {},
     "output_type": "execute_result"
    }
   ],
   "source": [
    "# Load in array of 201 images, create dataframe\n",
    "phi = np.load(\"Phi_201snap.npy\")\n",
    "df = pd.DataFrame(columns=['norm'], index=np.arange(201))\n",
    "\n",
    "r = np.linspace(1, 101, 101)\n",
    "theta = np.linspace(0, 2 * np.pi, 227)\n",
    "r_grid, theta_grid = np.meshgrid(r, theta, indexing='ij')\n",
    "\n",
    "# Convert polar coordinates to Cartesian coordinates\n",
    "x = r_grid * np.cos(theta_grid)\n",
    "y = r_grid * np.sin(theta_grid)\n",
    "\n",
    "# Define the target grid for interpolation (203x203 pixels)\n",
    "grid_x, grid_y = np.linspace(-101, 101, 203), np.linspace(-101, 101, 203)\n",
    "grid_x, grid_y = np.meshgrid(grid_x, grid_y)\n",
    "\n",
    "points = np.array([x.flatten(), y.flatten()]).T\n",
    "\n",
    "for i in range(201):\n",
    "    arr = phi[:,:,i]\n",
    "    values = arr.flatten()\n",
    "    \n",
    "    # Interpolate the data to the Cartesian grid\n",
    "    grid_z = griddata(points, values, (grid_x, grid_y), method='nearest')\n",
    "    \n",
    "    # Plot and save image --> Open JPG, convert to np array just like before, then use that instead of grid_z below.\n",
    "    plt.figure(figsize=(264/my_dpi, 264/my_dpi), dpi=my_dpi)\n",
    "    plt.imshow(grid_z, extent=(-101, 101, -101, 101), cmap='gray')\n",
    "    plt.axis(\"off\")\n",
    "    plt.savefig('analysis2.2.jpg', bbox_inches='tight', pad_inches=0)\n",
    "    plt.close()\n",
    "    im = Image.open('analysis2.2.jpg')\n",
    "    im_array = np.asarray(im)\n",
    "\n",
    "    # Create convert function to use to convert im_array back to raw values\n",
    "    phimax, phimin = np.max(grid_z), np.min(grid_z)\n",
    "    ratio = (phimax-phimin)/255\n",
    "    def convertRGBToRaw(x):\n",
    "        return ratio*x + phimin\n",
    "\n",
    "    # Loop through im_array and replace RGB by raw in copy\n",
    "    copy = grid_z.copy()\n",
    "    for i, row in enumerate(im_array):\n",
    "        for j, col in enumerate(row):\n",
    "            copy[i][j] = convertRGBToRaw(col[0])\n",
    "    \n",
    "    output_array = np.zeros((101, 227))\n",
    "    for rad in range(101):\n",
    "        for ang in range(227):\n",
    "            # Polar coordinates\n",
    "            radius = r[rad]\n",
    "            angle = theta[ang]\n",
    "            \n",
    "            # Convert to Cartesian coordinates\n",
    "            x_cart = radius * np.cos(angle)\n",
    "            y_cart = radius * np.sin(angle)\n",
    "            \n",
    "            # Find the nearest pixel in the Cartesian grid\n",
    "            x_nearest = np.argmin(np.abs(grid_x[0] - x_cart))\n",
    "            y_nearest = np.argmin(np.abs(grid_y[:, 0] - y_cart))\n",
    "            \n",
    "            # Get the raw values from copy and put into output array\n",
    "            output_array[rad, ang] = copy[y_nearest, x_nearest]\n",
    "            \n",
    "    # Compute norm, add to dataframe\n",
    "    diff_array = output_array - arr\n",
    "    norm = np.linalg.norm(diff_array)\n",
    "    df.at[i, 'norm'] = norm\n",
    "df"
   ]
  },
  {
   "cell_type": "code",
   "execution_count": 21,
   "id": "13d4e9a3-ce00-4671-81e1-ce7306cbf67f",
   "metadata": {},
   "outputs": [
    {
     "data": {
      "text/plain": [
       "0.3563949661550071"
      ]
     },
     "execution_count": 21,
     "metadata": {},
     "output_type": "execute_result"
    },
    {
     "data": {
      "image/png": "[encoded data removed]",
      "text/plain": [
       "<Figure size 264x264 with 1 Axes>"
      ]
     },
     "metadata": {},
     "output_type": "display_data"
    }
   ],
   "source": [
    "# Testing single images\n",
    "i = 160\n",
    "\n",
    "phi = np.load(\"Phi_201snap.npy\")\n",
    "r = np.linspace(1, 101, 101)\n",
    "theta = np.linspace(0, 2 * np.pi, 227)\n",
    "r_grid, theta_grid = np.meshgrid(r, theta, indexing='ij')\n",
    "\n",
    "# Convert polar coordinates to Cartesian coordinates\n",
    "x = r_grid * np.cos(theta_grid)\n",
    "y = r_grid * np.sin(theta_grid)\n",
    "\n",
    "# Define the target grid for interpolation (203x203 pixels)\n",
    "grid_x, grid_y = np.linspace(-101, 101, 203), np.linspace(-101, 101, 203)\n",
    "grid_x, grid_y = np.meshgrid(grid_x, grid_y)\n",
    "\n",
    "points = np.array([x.flatten(), y.flatten()]).T\n",
    "\n",
    "arr = phi[:,:,i]\n",
    "values = arr.flatten()\n",
    "    \n",
    "# Interpolate the data to the Cartesian grid\n",
    "grid_z = griddata(points, values, (grid_x, grid_y), method='nearest')\n",
    "    \n",
    "# Plot and save image\n",
    "plt.figure(figsize=(264/my_dpi, 264/my_dpi), dpi=my_dpi)\n",
    "plt.imshow(grid_z, extent=(-101, 101, -101, 101), cmap='gray')\n",
    "plt.axis(\"off\")\n",
    "plt.savefig('analysis2.2.jpg', bbox_inches='tight', pad_inches=0)\n",
    "im = Image.open('analysis2.2.jpg')\n",
    "im_array = np.asarray(im)\n",
    "\n",
    "# Create convert function to use to convert im_array back to raw values\n",
    "phimax, phimin = np.max(grid_z), np.min(grid_z)\n",
    "ratio = (phimax-phimin)/255\n",
    "def convertRGBToRaw(x):\n",
    "    return ratio*x + phimin\n",
    "\n",
    "# Loop through im_array and replace RGB by raw in copy\n",
    "copy = grid_z.copy()\n",
    "for i, row in enumerate(im_array):\n",
    "    for j, col in enumerate(row):\n",
    "        copy[i][j] = convertRGBToRaw(col[0])\n",
    "\n",
    "output_array = np.zeros((101, 227))\n",
    "for rad in range(101):\n",
    "    for ang in range(227):\n",
    "        # Polar coordinates\n",
    "        radius = r[rad]\n",
    "        angle = theta[ang]\n",
    "            \n",
    "        # Convert to Cartesian coordinates\n",
    "        x_cart = radius * np.cos(angle)\n",
    "        y_cart = radius * np.sin(angle)\n",
    "            \n",
    "        # Find the nearest pixel in the Cartesian grid\n",
    "        x_nearest = np.argmin(np.abs(grid_x[0] - x_cart))\n",
    "        y_nearest = np.argmin(np.abs(grid_y[:, 0] - y_cart))\n",
    "            \n",
    "        # Get the raw values from copy and put into output array\n",
    "        output_array[rad, ang] = copy[y_nearest, x_nearest]\n",
    "        \n",
    "# Compute norm, add to dataframe\n",
    "diff_array = output_array - arr\n",
    "norm = np.linalg.norm(diff_array)\n",
    "norm"
   ]
  },
  {
   "cell_type": "code",
   "execution_count": 17,
   "id": "00c1df82-7ff9-4fa6-926e-99389ca740b9",
   "metadata": {},
   "outputs": [
    {
     "data": {
      "text/plain": [
       "(101, 227, 3)"
      ]
     },
     "execution_count": 17,
     "metadata": {},
     "output_type": "execute_result"
    }
   ],
   "source": [
    "im_array.shape"
   ]
  },
  {
   "cell_type": "code",
   "execution_count": 18,
   "id": "43bc6860-0daa-4384-9010-f2821dd152cc",
   "metadata": {},
   "outputs": [
    {
     "data": {
      "text/plain": [
       "(203, 203)"
      ]
     },
     "execution_count": 18,
     "metadata": {},
     "output_type": "execute_result"
    }
   ],
   "source": [
    "copy.shape"
   ]
  },
  {
   "cell_type": "code",
   "execution_count": 19,
   "id": "5af7ecb4-a49c-406d-8e85-cf01093a411c",
   "metadata": {},
   "outputs": [
    {
     "data": {
      "text/plain": [
       "(203, 203)"
      ]
     },
     "execution_count": 19,
     "metadata": {},
     "output_type": "execute_result"
    }
   ],
   "source": [
    "grid_z.shape"
   ]
  },
  {
   "cell_type": "code",
   "execution_count": null,
   "id": "ba1e993f-c026-4a15-91a6-e370ee5da078",
   "metadata": {},
   "outputs": [],
   "source": []
  }
 ],
 "metadata": {
  "kernelspec": {
   "display_name": "Python 3 (ipykernel)",
   "language": "python",
   "name": "python3"
  },
  "language_info": {
   "codemirror_mode": {
    "name": "ipython",
    "version": 3
   },
   "file_extension": ".py",
   "mimetype": "text/x-python",
   "name": "python",
   "nbconvert_exporter": "python",
   "pygments_lexer": "ipython3",
   "version": "3.9.6"
  }
 },
 "nbformat": 4,
 "nbformat_minor": 5
}
