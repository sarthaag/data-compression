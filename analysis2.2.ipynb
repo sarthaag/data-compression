{
 "cells": [
  {
   "cell_type": "code",
   "execution_count": 16,
   "id": "cb160bd1-3f11-4e00-b96d-912708061b0d",
   "metadata": {},
   "outputs": [],
   "source": [
    "import numpy as np \n",
    "import pandas as pd\n",
    "import matplotlib.pyplot as plt\n",
    "from PIL import Image\n",
    "from scipy.interpolate import griddata"
   ]
  },
  {
   "cell_type": "code",
   "execution_count": 17,
   "id": "b8f3ec9a-b3a5-469a-bec0-bcd6e335ebbe",
   "metadata": {},
   "outputs": [],
   "source": [
    "phi = np.load(\"Phi_201snap.npy\")\n",
    "phi160 = phi[:,:,100]"
   ]
  },
  {
   "cell_type": "code",
   "execution_count": 18,
   "id": "9b31bfd3-7a9d-4db3-881d-ea35e8e6ab74",
   "metadata": {},
   "outputs": [],
   "source": [
    "data = phi160\n",
    "\n",
    "r = np.linspace(1, 101, 101)\n",
    "theta = np.linspace(0, 2 * np.pi, 227)\n",
    "r_grid, theta_grid = np.meshgrid(r, theta, indexing='ij')\n",
    "\n",
    "# Convert polar coordinates to Cartesian coordinates\n",
    "x = r_grid * np.cos(theta_grid)\n",
    "y = r_grid * np.sin(theta_grid)\n",
    "\n",
    "# Define the target grid for interpolation (203x203 pixels)\n",
    "grid_x, grid_y = np.linspace(-101, 101, 203), np.linspace(-101, 101, 203)\n",
    "grid_x, grid_y = np.meshgrid(grid_x, grid_y)\n",
    "\n",
    "# Interpolate the data to the Cartesian grid\n",
    "points = np.array([x.flatten(), y.flatten()]).T\n",
    "values = data.flatten()\n",
    "grid_z = griddata(points, values, (grid_x, grid_y), method='nearest')\n",
    "\n",
    "# Plot the image\n",
    "plt.imshow(grid_z, extent=(-101, 101, -101, 101), cmap='gray')\n",
    "plt.axis(\"off\")\n",
    "plt.savefig('image.jpg', bbox_inches='tight')\n",
    "plt.close()"
   ]
  },
  {
   "cell_type": "code",
   "execution_count": null,
   "id": "97e56438-d286-4fca-883c-bbad871002b6",
   "metadata": {},
   "outputs": [],
   "source": [
    "# Now convert image back to r,z array and calculate the norm\n",
    "\n"
   ]
  }
 ],
 "metadata": {
  "kernelspec": {
   "display_name": "Python 3 (ipykernel)",
   "language": "python",
   "name": "python3"
  },
  "language_info": {
   "codemirror_mode": {
    "name": "ipython",
    "version": 3
   },
   "file_extension": ".py",
   "mimetype": "text/x-python",
   "name": "python",
   "nbconvert_exporter": "python",
   "pygments_lexer": "ipython3",
   "version": "3.9.6"
  }
 },
 "nbformat": 4,
 "nbformat_minor": 5
}
