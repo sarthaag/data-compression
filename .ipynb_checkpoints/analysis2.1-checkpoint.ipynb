{
 "cells": [
  {
   "cell_type": "code",
   "execution_count": 2,
   "id": "7ecb1932-a586-49bc-8b61-c3a1e0b84438",
   "metadata": {},
   "outputs": [],
   "source": [
    "import numpy as np \n",
    "import pandas as pd\n",
    "import matplotlib.pyplot as plt\n",
    "import os\n",
    "import gzip\n",
    "from PIL import Image"
   ]
  },
  {
   "cell_type": "code",
   "execution_count": 3,
   "id": "57062785-b21d-45f6-993e-aa09d884fafa",
   "metadata": {},
   "outputs": [],
   "source": [
    "phi = np.load(\"Phi_201snap.npy\")"
   ]
  },
  {
   "cell_type": "code",
   "execution_count": null,
   "id": "ff61d3e6-185b-43f3-ad0a-8eaea646fe41",
   "metadata": {},
   "outputs": [],
   "source": []
  }
 ],
 "metadata": {
  "kernelspec": {
   "display_name": "Python 3 (ipykernel)",
   "language": "python",
   "name": "python3"
  },
  "language_info": {
   "codemirror_mode": {
    "name": "ipython",
    "version": 3
   },
   "file_extension": ".py",
   "mimetype": "text/x-python",
   "name": "python",
   "nbconvert_exporter": "python",
   "pygments_lexer": "ipython3",
   "version": "3.9.6"
  }
 },
 "nbformat": 4,
 "nbformat_minor": 5
}
